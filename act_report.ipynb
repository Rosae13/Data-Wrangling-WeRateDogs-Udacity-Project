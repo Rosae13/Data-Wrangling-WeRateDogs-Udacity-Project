{
 "cells": [
  {
   "cell_type": "markdown",
   "metadata": {},
   "source": [
    "## Report: act_report\n",
    "* Create a **250-word-minimum written report** called \"act_report.pdf\" or \"act_report.html\" that communicates the insights and displays the visualization(s) produced from your wrangled data. This is to be framed as an external document, like a blog post or magazine article, for example."
   ]
  },
  {
   "cell_type": "markdown",
   "metadata": {},
   "source": [
    "After having gathered, assessed and cleaned WeRateDogs twitter data I conducted some analysis on the dataset to establish some insights.\n",
    "\n",
    "Out of all the features in the dataset the features of interest to me were retweet count, favourite count and dog type. Which led to the following Insights and Visualizations:\n",
    "\n",
    "1.  The most popular dog type:\n",
    "\n",
    "  -   By rating ratio\n",
    "  -   By favorite count\n",
    "  -   By retweet count\n",
    "\n",
    "\n",
    "2.  The most popular dog breed:\n",
    "\n",
    "  -   By rating ratio\n",
    "  -   By favorite count\n",
    "  -   By retweet count\n",
    "\n",
    "\n",
    "3.  The relationship between retweets and favorites\n"
   ]
  },
  {
   "cell_type": "code",
   "execution_count": 1,
   "metadata": {},
   "outputs": [],
   "source": [
    "import pandas as pd\n",
    "import numpy as np\n",
    "import seaborn as sns\n",
    "import requests\n",
    "import tweepy\n",
    "import json\n",
    "from IPython.display import Image\n",
    "import os\n",
    "import re\n",
    "import matplotlib\n",
    "import matplotlib.pyplot as plt\n",
    "%matplotlib inline\n",
    "matplotlib.style.use('ggplot')\n",
    "df = pd.read_csv('twitter_archive_master.csv', encoding = 'utf-8')"
   ]
  },
  {
   "cell_type": "markdown",
   "metadata": {},
   "source": [
    "## The most popular dog type\n",
    "\n",
    "We returned a Series containing counts of unique values, generated a descriptive statistics and then plotted a box plot to show distributions with respect to categories. Thereafter, the most popular dog is Pupper.\n"
   ]
  },
  {
   "cell_type": "code",
   "execution_count": 2,
   "metadata": {},
   "outputs": [],
   "source": [
    "df['rating_ratio'] = df['rating_numerator'] / df['rating_denominator']"
   ]
  },
  {
   "cell_type": "code",
   "execution_count": 3,
   "metadata": {},
   "outputs": [
    {
     "data": {
      "text/plain": [
       "pupper            191\n",
       "doggo              63\n",
       "puppo              20\n",
       "floofer             9\n",
       "doggo, pupper       8\n",
       "doggo, puppo        1\n",
       "doggo, floofer      1\n",
       "Name: dog_type, dtype: int64"
      ]
     },
     "execution_count": 3,
     "metadata": {},
     "output_type": "execute_result"
    }
   ],
   "source": [
    "df['dog_type'].value_counts()"
   ]
  },
  {
   "cell_type": "code",
   "execution_count": 4,
   "metadata": {},
   "outputs": [
    {
     "data": {
      "text/plain": [
       "pupper           191\n",
       "doggo             63\n",
       "puppo             20\n",
       "floofer            9\n",
       "doggo, pupper      8\n",
       "Name: dog_type, dtype: int64"
      ]
     },
     "execution_count": 4,
     "metadata": {},
     "output_type": "execute_result"
    }
   ],
   "source": [
    "# Remove missing stages, the stages that only have one sample size, and outliers\n",
    "stage = df.query('dog_type !=\"\" & dog_type != \"doggo, puppo\" & dog_type != \"doggo, floofer\"')\n",
    "stage['dog_type'].value_counts()"
   ]
  },
  {
   "cell_type": "markdown",
   "metadata": {},
   "source": [
    "### By Rating Ratio"
   ]
  },
  {
   "cell_type": "code",
   "execution_count": 5,
   "metadata": {},
   "outputs": [
    {
     "data": {
      "text/html": [
       "<div>\n",
       "<style scoped>\n",
       "    .dataframe tbody tr th:only-of-type {\n",
       "        vertical-align: middle;\n",
       "    }\n",
       "\n",
       "    .dataframe tbody tr th {\n",
       "        vertical-align: top;\n",
       "    }\n",
       "\n",
       "    .dataframe thead th {\n",
       "        text-align: right;\n",
       "    }\n",
       "</style>\n",
       "<table border=\"1\" class=\"dataframe\">\n",
       "  <thead>\n",
       "    <tr style=\"text-align: right;\">\n",
       "      <th></th>\n",
       "      <th>count</th>\n",
       "      <th>mean</th>\n",
       "      <th>std</th>\n",
       "      <th>min</th>\n",
       "      <th>25%</th>\n",
       "      <th>50%</th>\n",
       "      <th>75%</th>\n",
       "      <th>max</th>\n",
       "    </tr>\n",
       "    <tr>\n",
       "      <th>dog_type</th>\n",
       "      <th></th>\n",
       "      <th></th>\n",
       "      <th></th>\n",
       "      <th></th>\n",
       "      <th></th>\n",
       "      <th></th>\n",
       "      <th></th>\n",
       "      <th></th>\n",
       "    </tr>\n",
       "  </thead>\n",
       "  <tbody>\n",
       "    <tr>\n",
       "      <th>doggo</th>\n",
       "      <td>63.0</td>\n",
       "      <td>1.182540</td>\n",
       "      <td>0.137418</td>\n",
       "      <td>0.8</td>\n",
       "      <td>1.100</td>\n",
       "      <td>1.2</td>\n",
       "      <td>1.3</td>\n",
       "      <td>1.4</td>\n",
       "    </tr>\n",
       "    <tr>\n",
       "      <th>doggo, pupper</th>\n",
       "      <td>8.0</td>\n",
       "      <td>1.087500</td>\n",
       "      <td>0.253194</td>\n",
       "      <td>0.5</td>\n",
       "      <td>1.075</td>\n",
       "      <td>1.2</td>\n",
       "      <td>1.2</td>\n",
       "      <td>1.3</td>\n",
       "    </tr>\n",
       "    <tr>\n",
       "      <th>floofer</th>\n",
       "      <td>9.0</td>\n",
       "      <td>1.188889</td>\n",
       "      <td>0.105409</td>\n",
       "      <td>1.0</td>\n",
       "      <td>1.100</td>\n",
       "      <td>1.2</td>\n",
       "      <td>1.3</td>\n",
       "      <td>1.3</td>\n",
       "    </tr>\n",
       "    <tr>\n",
       "      <th>pupper</th>\n",
       "      <td>191.0</td>\n",
       "      <td>1.067016</td>\n",
       "      <td>0.171713</td>\n",
       "      <td>0.3</td>\n",
       "      <td>1.000</td>\n",
       "      <td>1.1</td>\n",
       "      <td>1.2</td>\n",
       "      <td>1.4</td>\n",
       "    </tr>\n",
       "    <tr>\n",
       "      <th>puppo</th>\n",
       "      <td>20.0</td>\n",
       "      <td>1.185000</td>\n",
       "      <td>0.130888</td>\n",
       "      <td>0.9</td>\n",
       "      <td>1.100</td>\n",
       "      <td>1.2</td>\n",
       "      <td>1.3</td>\n",
       "      <td>1.4</td>\n",
       "    </tr>\n",
       "  </tbody>\n",
       "</table>\n",
       "</div>"
      ],
      "text/plain": [
       "               count      mean       std  min    25%  50%  75%  max\n",
       "dog_type                                                           \n",
       "doggo           63.0  1.182540  0.137418  0.8  1.100  1.2  1.3  1.4\n",
       "doggo, pupper    8.0  1.087500  0.253194  0.5  1.075  1.2  1.2  1.3\n",
       "floofer          9.0  1.188889  0.105409  1.0  1.100  1.2  1.3  1.3\n",
       "pupper         191.0  1.067016  0.171713  0.3  1.000  1.1  1.2  1.4\n",
       "puppo           20.0  1.185000  0.130888  0.9  1.100  1.2  1.3  1.4"
      ]
     },
     "execution_count": 5,
     "metadata": {},
     "output_type": "execute_result"
    }
   ],
   "source": [
    "stage.groupby('dog_type')['rating_ratio'].describe()"
   ]
  },
  {
   "cell_type": "markdown",
   "metadata": {},
   "source": [
    "### By Favorite Count"
   ]
  },
  {
   "cell_type": "code",
   "execution_count": 6,
   "metadata": {},
   "outputs": [
    {
     "data": {
      "text/html": [
       "<div>\n",
       "<style scoped>\n",
       "    .dataframe tbody tr th:only-of-type {\n",
       "        vertical-align: middle;\n",
       "    }\n",
       "\n",
       "    .dataframe tbody tr th {\n",
       "        vertical-align: top;\n",
       "    }\n",
       "\n",
       "    .dataframe thead th {\n",
       "        text-align: right;\n",
       "    }\n",
       "</style>\n",
       "<table border=\"1\" class=\"dataframe\">\n",
       "  <thead>\n",
       "    <tr style=\"text-align: right;\">\n",
       "      <th></th>\n",
       "      <th>count</th>\n",
       "      <th>mean</th>\n",
       "      <th>std</th>\n",
       "      <th>min</th>\n",
       "      <th>25%</th>\n",
       "      <th>50%</th>\n",
       "      <th>75%</th>\n",
       "      <th>max</th>\n",
       "    </tr>\n",
       "    <tr>\n",
       "      <th>dog_type</th>\n",
       "      <th></th>\n",
       "      <th></th>\n",
       "      <th></th>\n",
       "      <th></th>\n",
       "      <th></th>\n",
       "      <th></th>\n",
       "      <th></th>\n",
       "      <th></th>\n",
       "    </tr>\n",
       "  </thead>\n",
       "  <tbody>\n",
       "    <tr>\n",
       "      <th>doggo</th>\n",
       "      <td>63.0</td>\n",
       "      <td>12175.317460</td>\n",
       "      <td>11419.241075</td>\n",
       "      <td>0.0</td>\n",
       "      <td>4037.5</td>\n",
       "      <td>8157.0</td>\n",
       "      <td>20181.00</td>\n",
       "      <td>43694.0</td>\n",
       "    </tr>\n",
       "    <tr>\n",
       "      <th>doggo, pupper</th>\n",
       "      <td>8.0</td>\n",
       "      <td>6148.500000</td>\n",
       "      <td>5492.964097</td>\n",
       "      <td>0.0</td>\n",
       "      <td>2831.5</td>\n",
       "      <td>3795.5</td>\n",
       "      <td>10913.50</td>\n",
       "      <td>14015.0</td>\n",
       "    </tr>\n",
       "    <tr>\n",
       "      <th>floofer</th>\n",
       "      <td>9.0</td>\n",
       "      <td>9425.333333</td>\n",
       "      <td>11714.938796</td>\n",
       "      <td>0.0</td>\n",
       "      <td>2651.0</td>\n",
       "      <td>5094.0</td>\n",
       "      <td>10681.00</td>\n",
       "      <td>37914.0</td>\n",
       "    </tr>\n",
       "    <tr>\n",
       "      <th>pupper</th>\n",
       "      <td>191.0</td>\n",
       "      <td>6038.198953</td>\n",
       "      <td>8846.010750</td>\n",
       "      <td>0.0</td>\n",
       "      <td>1932.5</td>\n",
       "      <td>2890.0</td>\n",
       "      <td>6429.50</td>\n",
       "      <td>67100.0</td>\n",
       "    </tr>\n",
       "    <tr>\n",
       "      <th>puppo</th>\n",
       "      <td>20.0</td>\n",
       "      <td>11773.000000</td>\n",
       "      <td>11930.784180</td>\n",
       "      <td>0.0</td>\n",
       "      <td>0.0</td>\n",
       "      <td>9930.0</td>\n",
       "      <td>16072.25</td>\n",
       "      <td>38818.0</td>\n",
       "    </tr>\n",
       "  </tbody>\n",
       "</table>\n",
       "</div>"
      ],
      "text/plain": [
       "               count          mean           std  min     25%     50%  \\\n",
       "dog_type                                                                \n",
       "doggo           63.0  12175.317460  11419.241075  0.0  4037.5  8157.0   \n",
       "doggo, pupper    8.0   6148.500000   5492.964097  0.0  2831.5  3795.5   \n",
       "floofer          9.0   9425.333333  11714.938796  0.0  2651.0  5094.0   \n",
       "pupper         191.0   6038.198953   8846.010750  0.0  1932.5  2890.0   \n",
       "puppo           20.0  11773.000000  11930.784180  0.0     0.0  9930.0   \n",
       "\n",
       "                    75%      max  \n",
       "dog_type                          \n",
       "doggo          20181.00  43694.0  \n",
       "doggo, pupper  10913.50  14015.0  \n",
       "floofer        10681.00  37914.0  \n",
       "pupper          6429.50  67100.0  \n",
       "puppo          16072.25  38818.0  "
      ]
     },
     "execution_count": 6,
     "metadata": {},
     "output_type": "execute_result"
    }
   ],
   "source": [
    "stage.groupby('dog_type')['favorite_count'].describe()"
   ]
  },
  {
   "cell_type": "code",
   "execution_count": 7,
   "metadata": {},
   "outputs": [
    {
     "data": {
      "text/plain": [
       "Text(0.5,1,'Dog Type by Favorite Count')"
      ]
     },
     "execution_count": 7,
     "metadata": {},
     "output_type": "execute_result"
    },
    {
     "data": {
      "image/png": "[encoded data removed]",
      "text/plain": [
       "<matplotlib.figure.Figure at 0x7f8474628710>"
      ]
     },
     "metadata": {
      "needs_background": "light"
     },
     "output_type": "display_data"
    }
   ],
   "source": [
    "#Now, let's plot a boxplot\n",
    "plt.figure(figsize=(10,8))\n",
    "sns.set(style=\"darkgrid\")\n",
    "sns.boxplot(x='dog_type', y=\"favorite_count\", data=stage).set_title('Dog Type by Favorite Count')"
   ]
  },
  {
   "cell_type": "markdown",
   "metadata": {},
   "source": [
    "### By Retweet Counts"
   ]
  },
  {
   "cell_type": "code",
   "execution_count": 8,
   "metadata": {},
   "outputs": [
    {
     "data": {
      "text/html": [
       "<div>\n",
       "<style scoped>\n",
       "    .dataframe tbody tr th:only-of-type {\n",
       "        vertical-align: middle;\n",
       "    }\n",
       "\n",
       "    .dataframe tbody tr th {\n",
       "        vertical-align: top;\n",
       "    }\n",
       "\n",
       "    .dataframe thead th {\n",
       "        text-align: right;\n",
       "    }\n",
       "</style>\n",
       "<table border=\"1\" class=\"dataframe\">\n",
       "  <thead>\n",
       "    <tr style=\"text-align: right;\">\n",
       "      <th></th>\n",
       "      <th>count</th>\n",
       "      <th>mean</th>\n",
       "      <th>std</th>\n",
       "      <th>min</th>\n",
       "      <th>25%</th>\n",
       "      <th>50%</th>\n",
       "      <th>75%</th>\n",
       "      <th>max</th>\n",
       "    </tr>\n",
       "    <tr>\n",
       "      <th>dog_type</th>\n",
       "      <th></th>\n",
       "      <th></th>\n",
       "      <th></th>\n",
       "      <th></th>\n",
       "      <th></th>\n",
       "      <th></th>\n",
       "      <th></th>\n",
       "      <th></th>\n",
       "    </tr>\n",
       "  </thead>\n",
       "  <tbody>\n",
       "    <tr>\n",
       "      <th>doggo</th>\n",
       "      <td>63.0</td>\n",
       "      <td>4956.000000</td>\n",
       "      <td>4853.681343</td>\n",
       "      <td>10.0</td>\n",
       "      <td>1899.00</td>\n",
       "      <td>3884.0</td>\n",
       "      <td>6229.50</td>\n",
       "      <td>24319.0</td>\n",
       "    </tr>\n",
       "    <tr>\n",
       "      <th>doggo, pupper</th>\n",
       "      <td>8.0</td>\n",
       "      <td>2311.125000</td>\n",
       "      <td>1802.520254</td>\n",
       "      <td>113.0</td>\n",
       "      <td>1047.25</td>\n",
       "      <td>1730.5</td>\n",
       "      <td>3653.25</td>\n",
       "      <td>5247.0</td>\n",
       "    </tr>\n",
       "    <tr>\n",
       "      <th>floofer</th>\n",
       "      <td>9.0</td>\n",
       "      <td>3191.111111</td>\n",
       "      <td>2812.196448</td>\n",
       "      <td>764.0</td>\n",
       "      <td>1226.00</td>\n",
       "      <td>1714.0</td>\n",
       "      <td>4581.00</td>\n",
       "      <td>8329.0</td>\n",
       "    </tr>\n",
       "    <tr>\n",
       "      <th>pupper</th>\n",
       "      <td>191.0</td>\n",
       "      <td>2413.895288</td>\n",
       "      <td>3953.312856</td>\n",
       "      <td>97.0</td>\n",
       "      <td>640.50</td>\n",
       "      <td>1045.0</td>\n",
       "      <td>2241.00</td>\n",
       "      <td>31989.0</td>\n",
       "    </tr>\n",
       "    <tr>\n",
       "      <th>puppo</th>\n",
       "      <td>20.0</td>\n",
       "      <td>5207.800000</td>\n",
       "      <td>4608.195190</td>\n",
       "      <td>135.0</td>\n",
       "      <td>2175.25</td>\n",
       "      <td>4272.0</td>\n",
       "      <td>6611.50</td>\n",
       "      <td>18963.0</td>\n",
       "    </tr>\n",
       "  </tbody>\n",
       "</table>\n",
       "</div>"
      ],
      "text/plain": [
       "               count         mean          std    min      25%     50%  \\\n",
       "dog_type                                                                 \n",
       "doggo           63.0  4956.000000  4853.681343   10.0  1899.00  3884.0   \n",
       "doggo, pupper    8.0  2311.125000  1802.520254  113.0  1047.25  1730.5   \n",
       "floofer          9.0  3191.111111  2812.196448  764.0  1226.00  1714.0   \n",
       "pupper         191.0  2413.895288  3953.312856   97.0   640.50  1045.0   \n",
       "puppo           20.0  5207.800000  4608.195190  135.0  2175.25  4272.0   \n",
       "\n",
       "                   75%      max  \n",
       "dog_type                         \n",
       "doggo          6229.50  24319.0  \n",
       "doggo, pupper  3653.25   5247.0  \n",
       "floofer        4581.00   8329.0  \n",
       "pupper         2241.00  31989.0  \n",
       "puppo          6611.50  18963.0  "
      ]
     },
     "execution_count": 8,
     "metadata": {},
     "output_type": "execute_result"
    }
   ],
   "source": [
    "stage.groupby('dog_type')['retweet_count'].describe()"
   ]
  },
  {
   "cell_type": "code",
   "execution_count": 9,
   "metadata": {},
   "outputs": [
    {
     "data": {
      "text/plain": [
       "Text(0.5,1,'Dog Type by Retweet Count')"
      ]
     },
     "execution_count": 9,
     "metadata": {},
     "output_type": "execute_result"
    },
    {
     "data": {
      "image/png": "[encoded data removed]",
      "text/plain": [
       "<matplotlib.figure.Figure at 0x7f8472596940>"
      ]
     },
     "metadata": {},
     "output_type": "display_data"
    }
   ],
   "source": [
    "#Now, let's plot a boxplot\n",
    "plt.figure(figsize=(10,8))\n",
    "sns.set(style=\"whitegrid\")\n",
    "sns.boxplot(x='dog_type', y=\"retweet_count\", data=stage).set_title('Dog Type by Retweet Count')"
   ]
  },
  {
   "cell_type": "markdown",
   "metadata": {},
   "source": [
    "## The most popular dog breed\n",
    "\n",
    "We returned a Series containing counts of unique values, accessed a group of rows and columns by a boolean array, generated a descriptive statistics and then plotted a box plot to show distributions with respect to categories. And then, we saw that the most popular dog breed is Chihuahua."
   ]
  },
  {
   "cell_type": "code",
   "execution_count": 10,
   "metadata": {},
   "outputs": [
    {
     "data": {
      "text/plain": [
       "Golden Retriever      165\n",
       "Labrador Retriever    102\n",
       "Chihuahua              88\n",
       "Pembroke               85\n",
       "Pug                    63\n",
       "Name: dog_breed_prediction, dtype: int64"
      ]
     },
     "execution_count": 10,
     "metadata": {},
     "output_type": "execute_result"
    }
   ],
   "source": [
    "df.dog_breed_prediction.value_counts().head(5)"
   ]
  },
  {
   "cell_type": "code",
   "execution_count": 11,
   "metadata": {},
   "outputs": [],
   "source": [
    "# Find out the top 5 breed that has the most images\n",
    "array = ['Golden_Retriever','Labrador_Retriever','Chihuahua','Pembroke','Pug']\n",
    "new_df = df.loc[df['dog_breed_prediction'].isin(array)]"
   ]
  },
  {
   "cell_type": "markdown",
   "metadata": {},
   "source": [
    "### By Rating Ratio"
   ]
  },
  {
   "cell_type": "code",
   "execution_count": 12,
   "metadata": {},
   "outputs": [
    {
     "data": {
      "text/html": [
       "<div>\n",
       "<style scoped>\n",
       "    .dataframe tbody tr th:only-of-type {\n",
       "        vertical-align: middle;\n",
       "    }\n",
       "\n",
       "    .dataframe tbody tr th {\n",
       "        vertical-align: top;\n",
       "    }\n",
       "\n",
       "    .dataframe thead th {\n",
       "        text-align: right;\n",
       "    }\n",
       "</style>\n",
       "<table border=\"1\" class=\"dataframe\">\n",
       "  <thead>\n",
       "    <tr style=\"text-align: right;\">\n",
       "      <th></th>\n",
       "      <th>count</th>\n",
       "      <th>mean</th>\n",
       "      <th>std</th>\n",
       "      <th>min</th>\n",
       "      <th>25%</th>\n",
       "      <th>50%</th>\n",
       "      <th>75%</th>\n",
       "      <th>max</th>\n",
       "    </tr>\n",
       "    <tr>\n",
       "      <th>dog_breed_prediction</th>\n",
       "      <th></th>\n",
       "      <th></th>\n",
       "      <th></th>\n",
       "      <th></th>\n",
       "      <th></th>\n",
       "      <th></th>\n",
       "      <th></th>\n",
       "      <th></th>\n",
       "    </tr>\n",
       "  </thead>\n",
       "  <tbody>\n",
       "    <tr>\n",
       "      <th>Chihuahua</th>\n",
       "      <td>88.0</td>\n",
       "      <td>1.170455</td>\n",
       "      <td>0.467854</td>\n",
       "      <td>0.2</td>\n",
       "      <td>1.1</td>\n",
       "      <td>1.2</td>\n",
       "      <td>1.3</td>\n",
       "      <td>5.0</td>\n",
       "    </tr>\n",
       "    <tr>\n",
       "      <th>Pembroke</th>\n",
       "      <td>85.0</td>\n",
       "      <td>1.052941</td>\n",
       "      <td>0.215798</td>\n",
       "      <td>0.3</td>\n",
       "      <td>1.0</td>\n",
       "      <td>1.1</td>\n",
       "      <td>1.2</td>\n",
       "      <td>1.4</td>\n",
       "    </tr>\n",
       "    <tr>\n",
       "      <th>Pug</th>\n",
       "      <td>63.0</td>\n",
       "      <td>1.096825</td>\n",
       "      <td>0.194246</td>\n",
       "      <td>0.3</td>\n",
       "      <td>1.0</td>\n",
       "      <td>1.1</td>\n",
       "      <td>1.2</td>\n",
       "      <td>1.4</td>\n",
       "    </tr>\n",
       "  </tbody>\n",
       "</table>\n",
       "</div>"
      ],
      "text/plain": [
       "                      count      mean       std  min  25%  50%  75%  max\n",
       "dog_breed_prediction                                                    \n",
       "Chihuahua              88.0  1.170455  0.467854  0.2  1.1  1.2  1.3  5.0\n",
       "Pembroke               85.0  1.052941  0.215798  0.3  1.0  1.1  1.2  1.4\n",
       "Pug                    63.0  1.096825  0.194246  0.3  1.0  1.1  1.2  1.4"
      ]
     },
     "execution_count": 12,
     "metadata": {},
     "output_type": "execute_result"
    }
   ],
   "source": [
    "new_df.groupby('dog_breed_prediction').rating_ratio.describe()"
   ]
  },
  {
   "cell_type": "code",
   "execution_count": 13,
   "metadata": {},
   "outputs": [
    {
     "data": {
      "text/plain": [
       "dog_breed_prediction  dog_type     \n",
       "Chihuahua             pupper           7\n",
       "                      doggo            3\n",
       "                      puppo            2\n",
       "                      doggo, pupper    1\n",
       "Pembroke              pupper           6\n",
       "                      doggo            5\n",
       "Pug                   doggo            3\n",
       "                      pupper           3\n",
       "                      puppo            2\n",
       "                      floofer          1\n",
       "Name: dog_type, dtype: int64"
      ]
     },
     "execution_count": 13,
     "metadata": {},
     "output_type": "execute_result"
    }
   ],
   "source": [
    "new_df.groupby('dog_breed_prediction')['dog_type'].value_counts()"
   ]
  },
  {
   "cell_type": "markdown",
   "metadata": {},
   "source": [
    "### By Favorite Count"
   ]
  },
  {
   "cell_type": "code",
   "execution_count": 14,
   "metadata": {},
   "outputs": [
    {
     "data": {
      "text/html": [
       "<div>\n",
       "<style scoped>\n",
       "    .dataframe tbody tr th:only-of-type {\n",
       "        vertical-align: middle;\n",
       "    }\n",
       "\n",
       "    .dataframe tbody tr th {\n",
       "        vertical-align: top;\n",
       "    }\n",
       "\n",
       "    .dataframe thead th {\n",
       "        text-align: right;\n",
       "    }\n",
       "</style>\n",
       "<table border=\"1\" class=\"dataframe\">\n",
       "  <thead>\n",
       "    <tr style=\"text-align: right;\">\n",
       "      <th></th>\n",
       "      <th>count</th>\n",
       "      <th>mean</th>\n",
       "      <th>std</th>\n",
       "      <th>min</th>\n",
       "      <th>25%</th>\n",
       "      <th>50%</th>\n",
       "      <th>75%</th>\n",
       "      <th>max</th>\n",
       "    </tr>\n",
       "    <tr>\n",
       "      <th>dog_breed_prediction</th>\n",
       "      <th></th>\n",
       "      <th></th>\n",
       "      <th></th>\n",
       "      <th></th>\n",
       "      <th></th>\n",
       "      <th></th>\n",
       "      <th></th>\n",
       "      <th></th>\n",
       "    </tr>\n",
       "  </thead>\n",
       "  <tbody>\n",
       "    <tr>\n",
       "      <th>Chihuahua</th>\n",
       "      <td>88.0</td>\n",
       "      <td>9646.522727</td>\n",
       "      <td>10126.887452</td>\n",
       "      <td>0.0</td>\n",
       "      <td>2742.25</td>\n",
       "      <td>5665.5</td>\n",
       "      <td>13032.0</td>\n",
       "      <td>40325.0</td>\n",
       "    </tr>\n",
       "    <tr>\n",
       "      <th>Pembroke</th>\n",
       "      <td>85.0</td>\n",
       "      <td>7362.988235</td>\n",
       "      <td>9112.917834</td>\n",
       "      <td>0.0</td>\n",
       "      <td>2056.00</td>\n",
       "      <td>4249.0</td>\n",
       "      <td>7620.0</td>\n",
       "      <td>38074.0</td>\n",
       "    </tr>\n",
       "    <tr>\n",
       "      <th>Pug</th>\n",
       "      <td>63.0</td>\n",
       "      <td>7529.539683</td>\n",
       "      <td>7676.342547</td>\n",
       "      <td>0.0</td>\n",
       "      <td>1580.00</td>\n",
       "      <td>5565.0</td>\n",
       "      <td>12065.5</td>\n",
       "      <td>35553.0</td>\n",
       "    </tr>\n",
       "  </tbody>\n",
       "</table>\n",
       "</div>"
      ],
      "text/plain": [
       "                      count         mean           std  min      25%     50%  \\\n",
       "dog_breed_prediction                                                           \n",
       "Chihuahua              88.0  9646.522727  10126.887452  0.0  2742.25  5665.5   \n",
       "Pembroke               85.0  7362.988235   9112.917834  0.0  2056.00  4249.0   \n",
       "Pug                    63.0  7529.539683   7676.342547  0.0  1580.00  5565.0   \n",
       "\n",
       "                          75%      max  \n",
       "dog_breed_prediction                    \n",
       "Chihuahua             13032.0  40325.0  \n",
       "Pembroke               7620.0  38074.0  \n",
       "Pug                   12065.5  35553.0  "
      ]
     },
     "execution_count": 14,
     "metadata": {},
     "output_type": "execute_result"
    }
   ],
   "source": [
    "new_df.groupby('dog_breed_prediction')['favorite_count'].describe()"
   ]
  },
  {
   "cell_type": "code",
   "execution_count": 15,
   "metadata": {},
   "outputs": [
    {
     "data": {
      "text/plain": [
       "Text(0.5,1,'Dog Breed by Favorite Count')"
      ]
     },
     "execution_count": 15,
     "metadata": {},
     "output_type": "execute_result"
    },
    {
     "data": {
      "image/png": "[encoded data removed]",
      "text/plain": [
       "<matplotlib.figure.Figure at 0x7f8472508470>"
      ]
     },
     "metadata": {},
     "output_type": "display_data"
    }
   ],
   "source": [
    "plt.figure(figsize=(10,8))\n",
    "sns.boxplot(x='dog_breed_prediction', y=\"favorite_count\", data=new_df).set_title('Dog Breed by Favorite Count')"
   ]
  },
  {
   "cell_type": "markdown",
   "metadata": {},
   "source": [
    "### By Retweet Counts"
   ]
  },
  {
   "cell_type": "code",
   "execution_count": 16,
   "metadata": {},
   "outputs": [
    {
     "data": {
      "text/html": [
       "<div>\n",
       "<style scoped>\n",
       "    .dataframe tbody tr th:only-of-type {\n",
       "        vertical-align: middle;\n",
       "    }\n",
       "\n",
       "    .dataframe tbody tr th {\n",
       "        vertical-align: top;\n",
       "    }\n",
       "\n",
       "    .dataframe thead th {\n",
       "        text-align: right;\n",
       "    }\n",
       "</style>\n",
       "<table border=\"1\" class=\"dataframe\">\n",
       "  <thead>\n",
       "    <tr style=\"text-align: right;\">\n",
       "      <th></th>\n",
       "      <th>count</th>\n",
       "      <th>mean</th>\n",
       "      <th>std</th>\n",
       "      <th>min</th>\n",
       "      <th>25%</th>\n",
       "      <th>50%</th>\n",
       "      <th>75%</th>\n",
       "      <th>max</th>\n",
       "    </tr>\n",
       "    <tr>\n",
       "      <th>dog_breed_prediction</th>\n",
       "      <th></th>\n",
       "      <th></th>\n",
       "      <th></th>\n",
       "      <th></th>\n",
       "      <th></th>\n",
       "      <th></th>\n",
       "      <th></th>\n",
       "      <th></th>\n",
       "    </tr>\n",
       "  </thead>\n",
       "  <tbody>\n",
       "    <tr>\n",
       "      <th>Chihuahua</th>\n",
       "      <td>88.0</td>\n",
       "      <td>4019.977273</td>\n",
       "      <td>6750.211106</td>\n",
       "      <td>213.0</td>\n",
       "      <td>1158.5</td>\n",
       "      <td>2252.5</td>\n",
       "      <td>4294.0</td>\n",
       "      <td>56625.0</td>\n",
       "    </tr>\n",
       "    <tr>\n",
       "      <th>Pembroke</th>\n",
       "      <td>85.0</td>\n",
       "      <td>2661.929412</td>\n",
       "      <td>3061.029751</td>\n",
       "      <td>119.0</td>\n",
       "      <td>786.0</td>\n",
       "      <td>1561.0</td>\n",
       "      <td>3282.0</td>\n",
       "      <td>17465.0</td>\n",
       "    </tr>\n",
       "    <tr>\n",
       "      <th>Pug</th>\n",
       "      <td>63.0</td>\n",
       "      <td>2960.174603</td>\n",
       "      <td>2923.306290</td>\n",
       "      <td>39.0</td>\n",
       "      <td>991.0</td>\n",
       "      <td>2013.0</td>\n",
       "      <td>3806.5</td>\n",
       "      <td>14740.0</td>\n",
       "    </tr>\n",
       "  </tbody>\n",
       "</table>\n",
       "</div>"
      ],
      "text/plain": [
       "                      count         mean          std    min     25%     50%  \\\n",
       "dog_breed_prediction                                                           \n",
       "Chihuahua              88.0  4019.977273  6750.211106  213.0  1158.5  2252.5   \n",
       "Pembroke               85.0  2661.929412  3061.029751  119.0   786.0  1561.0   \n",
       "Pug                    63.0  2960.174603  2923.306290   39.0   991.0  2013.0   \n",
       "\n",
       "                         75%      max  \n",
       "dog_breed_prediction                   \n",
       "Chihuahua             4294.0  56625.0  \n",
       "Pembroke              3282.0  17465.0  \n",
       "Pug                   3806.5  14740.0  "
      ]
     },
     "execution_count": 16,
     "metadata": {},
     "output_type": "execute_result"
    }
   ],
   "source": [
    "new_df.groupby('dog_breed_prediction')['retweet_count'].describe()"
   ]
  },
  {
   "cell_type": "code",
   "execution_count": 17,
   "metadata": {},
   "outputs": [
    {
     "data": {
      "text/plain": [
       "Text(0.5,1,'Dog Breed by Retweet Count')"
      ]
     },
     "execution_count": 17,
     "metadata": {},
     "output_type": "execute_result"
    },
    {
     "data": {
      "image/png": "[encoded data removed]",
      "text/plain": [
       "<matplotlib.figure.Figure at 0x7f84724d7a90>"
      ]
     },
     "metadata": {},
     "output_type": "display_data"
    }
   ],
   "source": [
    "plt.figure(figsize=(10,8))\n",
    "sns.boxplot(x='dog_breed_prediction', y=\"retweet_count\", data=new_df).set_title('Dog Breed by Retweet Count')"
   ]
  },
  {
   "cell_type": "markdown",
   "metadata": {},
   "source": [
    "## The relationship between retweets and favorites:\n",
    "\n",
    "We made plots of Series or DataFrame.  The scatter plot showed that there is a strong relation between retweets and favorites. The relation called Positive Correlation. So, the increase in retweets leads to an increase in favorites."
   ]
  },
  {
   "cell_type": "code",
   "execution_count": 18,
   "metadata": {},
   "outputs": [
    {
     "data": {
      "image/png": "[encoded data removed]",
      "text/plain": [
       "<matplotlib.figure.Figure at 0x7f847258edd8>"
      ]
     },
     "metadata": {},
     "output_type": "display_data"
    }
   ],
   "source": [
    "#Retweets vs. Favorites\n",
    "\n",
    "df.plot(kind='scatter',x='favorite_count',y='retweet_count', alpha = 0.5)\n",
    "plt.xlabel('Favorites')\n",
    "plt.ylabel('Retweets')\n",
    "plt.title('Retweets and Favorites Scatter Plot')\n",
    "\n",
    "plt.savefig('Retweets_vs_Favorites.png', bbox_inches='tight')"
   ]
  },
  {
   "cell_type": "markdown",
   "metadata": {},
   "source": [
    "## Conclusion:"
   ]
  },
  {
   "cell_type": "markdown",
   "metadata": {},
   "source": [
    "The accuracy of such analysis cannot be relied upon unless the dataset is gathered properly and is free of quality as well as tidiness issues. But since my analysis was conducted on a clean dataset, I can say that these numbers as well as the visualizations are pretty accurate. The write up offers a straight look at the data wrangling process. There is so much\n",
    "more that can be done with this data set."
   ]
  }
 ],
 "metadata": {
  "kernelspec": {
   "display_name": "Python 3",
   "language": "python",
   "name": "python3"
  },
  "language_info": {
   "codemirror_mode": {
    "name": "ipython",
    "version": 3
   },
   "file_extension": ".py",
   "mimetype": "text/x-python",
   "name": "python",
   "nbconvert_exporter": "python",
   "pygments_lexer": "ipython3",
   "version": "3.6.3"
  }
 },
 "nbformat": 4,
 "nbformat_minor": 2
}
